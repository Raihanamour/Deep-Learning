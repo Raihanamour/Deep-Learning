{
 "cells": [
  {
   "cell_type": "code",
   "execution_count": 1,
   "id": "112fca0c",
   "metadata": {},
   "outputs": [],
   "source": [
    "import pandas as pd\n",
    "import numpy as np\n",
    "import matplotlib.pyplot as plt"
   ]
  },
  {
   "cell_type": "code",
   "execution_count": 2,
   "id": "c6a1e430",
   "metadata": {},
   "outputs": [],
   "source": [
    "df = pd.read_csv('Churn_Modelling.csv')"
   ]
  },
  {
   "cell_type": "code",
   "execution_count": 3,
   "id": "cce28846",
   "metadata": {},
   "outputs": [
    {
     "data": {
      "text/html": [
       "<div>\n",
       "<style scoped>\n",
       "    .dataframe tbody tr th:only-of-type {\n",
       "        vertical-align: middle;\n",
       "    }\n",
       "\n",
       "    .dataframe tbody tr th {\n",
       "        vertical-align: top;\n",
       "    }\n",
       "\n",
       "    .dataframe thead th {\n",
       "        text-align: right;\n",
       "    }\n",
       "</style>\n",
       "<table border=\"1\" class=\"dataframe\">\n",
       "  <thead>\n",
       "    <tr style=\"text-align: right;\">\n",
       "      <th></th>\n",
       "      <th>RowNumber</th>\n",
       "      <th>CustomerId</th>\n",
       "      <th>Surname</th>\n",
       "      <th>CreditScore</th>\n",
       "      <th>Geography</th>\n",
       "      <th>Gender</th>\n",
       "      <th>Age</th>\n",
       "      <th>Tenure</th>\n",
       "      <th>Balance</th>\n",
       "      <th>NumOfProducts</th>\n",
       "      <th>HasCrCard</th>\n",
       "      <th>IsActiveMember</th>\n",
       "      <th>EstimatedSalary</th>\n",
       "      <th>Exited</th>\n",
       "    </tr>\n",
       "  </thead>\n",
       "  <tbody>\n",
       "    <tr>\n",
       "      <th>0</th>\n",
       "      <td>1</td>\n",
       "      <td>15634602</td>\n",
       "      <td>Hargrave</td>\n",
       "      <td>619</td>\n",
       "      <td>France</td>\n",
       "      <td>Female</td>\n",
       "      <td>42</td>\n",
       "      <td>2</td>\n",
       "      <td>0.00</td>\n",
       "      <td>1</td>\n",
       "      <td>1</td>\n",
       "      <td>1</td>\n",
       "      <td>101348.88</td>\n",
       "      <td>1</td>\n",
       "    </tr>\n",
       "    <tr>\n",
       "      <th>1</th>\n",
       "      <td>2</td>\n",
       "      <td>15647311</td>\n",
       "      <td>Hill</td>\n",
       "      <td>608</td>\n",
       "      <td>Spain</td>\n",
       "      <td>Female</td>\n",
       "      <td>41</td>\n",
       "      <td>1</td>\n",
       "      <td>83807.86</td>\n",
       "      <td>1</td>\n",
       "      <td>0</td>\n",
       "      <td>1</td>\n",
       "      <td>112542.58</td>\n",
       "      <td>0</td>\n",
       "    </tr>\n",
       "    <tr>\n",
       "      <th>2</th>\n",
       "      <td>3</td>\n",
       "      <td>15619304</td>\n",
       "      <td>Onio</td>\n",
       "      <td>502</td>\n",
       "      <td>France</td>\n",
       "      <td>Female</td>\n",
       "      <td>42</td>\n",
       "      <td>8</td>\n",
       "      <td>159660.80</td>\n",
       "      <td>3</td>\n",
       "      <td>1</td>\n",
       "      <td>0</td>\n",
       "      <td>113931.57</td>\n",
       "      <td>1</td>\n",
       "    </tr>\n",
       "    <tr>\n",
       "      <th>3</th>\n",
       "      <td>4</td>\n",
       "      <td>15701354</td>\n",
       "      <td>Boni</td>\n",
       "      <td>699</td>\n",
       "      <td>France</td>\n",
       "      <td>Female</td>\n",
       "      <td>39</td>\n",
       "      <td>1</td>\n",
       "      <td>0.00</td>\n",
       "      <td>2</td>\n",
       "      <td>0</td>\n",
       "      <td>0</td>\n",
       "      <td>93826.63</td>\n",
       "      <td>0</td>\n",
       "    </tr>\n",
       "    <tr>\n",
       "      <th>4</th>\n",
       "      <td>5</td>\n",
       "      <td>15737888</td>\n",
       "      <td>Mitchell</td>\n",
       "      <td>850</td>\n",
       "      <td>Spain</td>\n",
       "      <td>Female</td>\n",
       "      <td>43</td>\n",
       "      <td>2</td>\n",
       "      <td>125510.82</td>\n",
       "      <td>1</td>\n",
       "      <td>1</td>\n",
       "      <td>1</td>\n",
       "      <td>79084.10</td>\n",
       "      <td>0</td>\n",
       "    </tr>\n",
       "  </tbody>\n",
       "</table>\n",
       "</div>"
      ],
      "text/plain": [
       "   RowNumber  CustomerId   Surname  CreditScore Geography  Gender  Age  \\\n",
       "0          1    15634602  Hargrave          619    France  Female   42   \n",
       "1          2    15647311      Hill          608     Spain  Female   41   \n",
       "2          3    15619304      Onio          502    France  Female   42   \n",
       "3          4    15701354      Boni          699    France  Female   39   \n",
       "4          5    15737888  Mitchell          850     Spain  Female   43   \n",
       "\n",
       "   Tenure    Balance  NumOfProducts  HasCrCard  IsActiveMember  \\\n",
       "0       2       0.00              1          1               1   \n",
       "1       1   83807.86              1          0               1   \n",
       "2       8  159660.80              3          1               0   \n",
       "3       1       0.00              2          0               0   \n",
       "4       2  125510.82              1          1               1   \n",
       "\n",
       "   EstimatedSalary  Exited  \n",
       "0        101348.88       1  \n",
       "1        112542.58       0  \n",
       "2        113931.57       1  \n",
       "3         93826.63       0  \n",
       "4         79084.10       0  "
      ]
     },
     "execution_count": 3,
     "metadata": {},
     "output_type": "execute_result"
    }
   ],
   "source": [
    "df.head()"
   ]
  },
  {
   "cell_type": "code",
   "execution_count": 4,
   "id": "0f069a0f",
   "metadata": {},
   "outputs": [
    {
     "data": {
      "text/plain": [
       "(10000, 14)"
      ]
     },
     "execution_count": 4,
     "metadata": {},
     "output_type": "execute_result"
    }
   ],
   "source": [
    "df.shape"
   ]
  },
  {
   "cell_type": "code",
   "execution_count": 5,
   "id": "406f8aba",
   "metadata": {},
   "outputs": [],
   "source": [
    "X = df.iloc[:,3:13]\n",
    "y = df.iloc[:,13]"
   ]
  },
  {
   "cell_type": "code",
   "execution_count": 6,
   "id": "2326cb0f",
   "metadata": {},
   "outputs": [],
   "source": [
    "geography = pd.get_dummies(X['Geography'], drop_first=True)\n",
    "gender = pd.get_dummies(X['Gender'], drop_first=True)"
   ]
  },
  {
   "cell_type": "code",
   "execution_count": 7,
   "id": "e978f6e9",
   "metadata": {},
   "outputs": [],
   "source": [
    "X = pd.concat([X,geography,gender], axis=1)"
   ]
  },
  {
   "cell_type": "code",
   "execution_count": 8,
   "id": "f400428a",
   "metadata": {},
   "outputs": [],
   "source": [
    "X = X.drop(['Geography','Gender'],axis=1)"
   ]
  },
  {
   "cell_type": "code",
   "execution_count": 9,
   "id": "d16ffda7",
   "metadata": {},
   "outputs": [
    {
     "data": {
      "text/html": [
       "<div>\n",
       "<style scoped>\n",
       "    .dataframe tbody tr th:only-of-type {\n",
       "        vertical-align: middle;\n",
       "    }\n",
       "\n",
       "    .dataframe tbody tr th {\n",
       "        vertical-align: top;\n",
       "    }\n",
       "\n",
       "    .dataframe thead th {\n",
       "        text-align: right;\n",
       "    }\n",
       "</style>\n",
       "<table border=\"1\" class=\"dataframe\">\n",
       "  <thead>\n",
       "    <tr style=\"text-align: right;\">\n",
       "      <th></th>\n",
       "      <th>CreditScore</th>\n",
       "      <th>Age</th>\n",
       "      <th>Tenure</th>\n",
       "      <th>Balance</th>\n",
       "      <th>NumOfProducts</th>\n",
       "      <th>HasCrCard</th>\n",
       "      <th>IsActiveMember</th>\n",
       "      <th>EstimatedSalary</th>\n",
       "      <th>Germany</th>\n",
       "      <th>Spain</th>\n",
       "      <th>Male</th>\n",
       "    </tr>\n",
       "  </thead>\n",
       "  <tbody>\n",
       "    <tr>\n",
       "      <th>0</th>\n",
       "      <td>619</td>\n",
       "      <td>42</td>\n",
       "      <td>2</td>\n",
       "      <td>0.00</td>\n",
       "      <td>1</td>\n",
       "      <td>1</td>\n",
       "      <td>1</td>\n",
       "      <td>101348.88</td>\n",
       "      <td>False</td>\n",
       "      <td>False</td>\n",
       "      <td>False</td>\n",
       "    </tr>\n",
       "    <tr>\n",
       "      <th>1</th>\n",
       "      <td>608</td>\n",
       "      <td>41</td>\n",
       "      <td>1</td>\n",
       "      <td>83807.86</td>\n",
       "      <td>1</td>\n",
       "      <td>0</td>\n",
       "      <td>1</td>\n",
       "      <td>112542.58</td>\n",
       "      <td>False</td>\n",
       "      <td>True</td>\n",
       "      <td>False</td>\n",
       "    </tr>\n",
       "    <tr>\n",
       "      <th>2</th>\n",
       "      <td>502</td>\n",
       "      <td>42</td>\n",
       "      <td>8</td>\n",
       "      <td>159660.80</td>\n",
       "      <td>3</td>\n",
       "      <td>1</td>\n",
       "      <td>0</td>\n",
       "      <td>113931.57</td>\n",
       "      <td>False</td>\n",
       "      <td>False</td>\n",
       "      <td>False</td>\n",
       "    </tr>\n",
       "    <tr>\n",
       "      <th>3</th>\n",
       "      <td>699</td>\n",
       "      <td>39</td>\n",
       "      <td>1</td>\n",
       "      <td>0.00</td>\n",
       "      <td>2</td>\n",
       "      <td>0</td>\n",
       "      <td>0</td>\n",
       "      <td>93826.63</td>\n",
       "      <td>False</td>\n",
       "      <td>False</td>\n",
       "      <td>False</td>\n",
       "    </tr>\n",
       "    <tr>\n",
       "      <th>4</th>\n",
       "      <td>850</td>\n",
       "      <td>43</td>\n",
       "      <td>2</td>\n",
       "      <td>125510.82</td>\n",
       "      <td>1</td>\n",
       "      <td>1</td>\n",
       "      <td>1</td>\n",
       "      <td>79084.10</td>\n",
       "      <td>False</td>\n",
       "      <td>True</td>\n",
       "      <td>False</td>\n",
       "    </tr>\n",
       "    <tr>\n",
       "      <th>...</th>\n",
       "      <td>...</td>\n",
       "      <td>...</td>\n",
       "      <td>...</td>\n",
       "      <td>...</td>\n",
       "      <td>...</td>\n",
       "      <td>...</td>\n",
       "      <td>...</td>\n",
       "      <td>...</td>\n",
       "      <td>...</td>\n",
       "      <td>...</td>\n",
       "      <td>...</td>\n",
       "    </tr>\n",
       "    <tr>\n",
       "      <th>9995</th>\n",
       "      <td>771</td>\n",
       "      <td>39</td>\n",
       "      <td>5</td>\n",
       "      <td>0.00</td>\n",
       "      <td>2</td>\n",
       "      <td>1</td>\n",
       "      <td>0</td>\n",
       "      <td>96270.64</td>\n",
       "      <td>False</td>\n",
       "      <td>False</td>\n",
       "      <td>True</td>\n",
       "    </tr>\n",
       "    <tr>\n",
       "      <th>9996</th>\n",
       "      <td>516</td>\n",
       "      <td>35</td>\n",
       "      <td>10</td>\n",
       "      <td>57369.61</td>\n",
       "      <td>1</td>\n",
       "      <td>1</td>\n",
       "      <td>1</td>\n",
       "      <td>101699.77</td>\n",
       "      <td>False</td>\n",
       "      <td>False</td>\n",
       "      <td>True</td>\n",
       "    </tr>\n",
       "    <tr>\n",
       "      <th>9997</th>\n",
       "      <td>709</td>\n",
       "      <td>36</td>\n",
       "      <td>7</td>\n",
       "      <td>0.00</td>\n",
       "      <td>1</td>\n",
       "      <td>0</td>\n",
       "      <td>1</td>\n",
       "      <td>42085.58</td>\n",
       "      <td>False</td>\n",
       "      <td>False</td>\n",
       "      <td>False</td>\n",
       "    </tr>\n",
       "    <tr>\n",
       "      <th>9998</th>\n",
       "      <td>772</td>\n",
       "      <td>42</td>\n",
       "      <td>3</td>\n",
       "      <td>75075.31</td>\n",
       "      <td>2</td>\n",
       "      <td>1</td>\n",
       "      <td>0</td>\n",
       "      <td>92888.52</td>\n",
       "      <td>True</td>\n",
       "      <td>False</td>\n",
       "      <td>True</td>\n",
       "    </tr>\n",
       "    <tr>\n",
       "      <th>9999</th>\n",
       "      <td>792</td>\n",
       "      <td>28</td>\n",
       "      <td>4</td>\n",
       "      <td>130142.79</td>\n",
       "      <td>1</td>\n",
       "      <td>1</td>\n",
       "      <td>0</td>\n",
       "      <td>38190.78</td>\n",
       "      <td>False</td>\n",
       "      <td>False</td>\n",
       "      <td>False</td>\n",
       "    </tr>\n",
       "  </tbody>\n",
       "</table>\n",
       "<p>10000 rows × 11 columns</p>\n",
       "</div>"
      ],
      "text/plain": [
       "      CreditScore  Age  Tenure    Balance  NumOfProducts  HasCrCard  \\\n",
       "0             619   42       2       0.00              1          1   \n",
       "1             608   41       1   83807.86              1          0   \n",
       "2             502   42       8  159660.80              3          1   \n",
       "3             699   39       1       0.00              2          0   \n",
       "4             850   43       2  125510.82              1          1   \n",
       "...           ...  ...     ...        ...            ...        ...   \n",
       "9995          771   39       5       0.00              2          1   \n",
       "9996          516   35      10   57369.61              1          1   \n",
       "9997          709   36       7       0.00              1          0   \n",
       "9998          772   42       3   75075.31              2          1   \n",
       "9999          792   28       4  130142.79              1          1   \n",
       "\n",
       "      IsActiveMember  EstimatedSalary  Germany  Spain   Male  \n",
       "0                  1        101348.88    False  False  False  \n",
       "1                  1        112542.58    False   True  False  \n",
       "2                  0        113931.57    False  False  False  \n",
       "3                  0         93826.63    False  False  False  \n",
       "4                  1         79084.10    False   True  False  \n",
       "...              ...              ...      ...    ...    ...  \n",
       "9995               0         96270.64    False  False   True  \n",
       "9996               1        101699.77    False  False   True  \n",
       "9997               1         42085.58    False  False  False  \n",
       "9998               0         92888.52     True  False   True  \n",
       "9999               0         38190.78    False  False  False  \n",
       "\n",
       "[10000 rows x 11 columns]"
      ]
     },
     "execution_count": 9,
     "metadata": {},
     "output_type": "execute_result"
    }
   ],
   "source": [
    "X"
   ]
  },
  {
   "cell_type": "code",
   "execution_count": 10,
   "id": "b694ba02",
   "metadata": {},
   "outputs": [],
   "source": [
    "from sklearn.model_selection import train_test_split"
   ]
  },
  {
   "cell_type": "code",
   "execution_count": 11,
   "id": "520df7a1",
   "metadata": {},
   "outputs": [],
   "source": [
    "X_train,X_test,y_train,y_test = train_test_split(X,y,test_size=0.2, random_state=0)"
   ]
  },
  {
   "cell_type": "markdown",
   "id": "ea429895",
   "metadata": {},
   "source": [
    "### Scaling "
   ]
  },
  {
   "cell_type": "code",
   "execution_count": 12,
   "id": "3d864de5",
   "metadata": {},
   "outputs": [],
   "source": [
    "from sklearn.preprocessing import StandardScaler"
   ]
  },
  {
   "cell_type": "code",
   "execution_count": 13,
   "id": "ad28dc21",
   "metadata": {},
   "outputs": [],
   "source": [
    "sc = StandardScaler()"
   ]
  },
  {
   "cell_type": "code",
   "execution_count": 14,
   "id": "2f4ae920",
   "metadata": {},
   "outputs": [],
   "source": [
    "X_train = sc.fit_transform(X_train)\n",
    "X_test = sc.transform(X_test)"
   ]
  },
  {
   "cell_type": "markdown",
   "id": "fc464982",
   "metadata": {},
   "source": [
    "## Create ANN"
   ]
  },
  {
   "cell_type": "markdown",
   "id": "29cf2795",
   "metadata": {},
   "source": [
    "### Importing the keras libraries and packages "
   ]
  },
  {
   "cell_type": "code",
   "execution_count": 15,
   "id": "b85d0725",
   "metadata": {},
   "outputs": [],
   "source": [
    "import keras"
   ]
  },
  {
   "cell_type": "code",
   "execution_count": 16,
   "id": "774200a2",
   "metadata": {},
   "outputs": [],
   "source": [
    "from keras.models import Sequential\n",
    "from keras.layers import Dense,Activation,Dropout\n",
    "from keras.optimizers import SGD"
   ]
  },
  {
   "cell_type": "markdown",
   "id": "9d167cd3",
   "metadata": {},
   "source": [
    "### Initializing ANN"
   ]
  },
  {
   "cell_type": "code",
   "execution_count": 17,
   "id": "9f49622c",
   "metadata": {},
   "outputs": [],
   "source": [
    "classifier = Sequential()"
   ]
  },
  {
   "cell_type": "markdown",
   "id": "abc99fc8",
   "metadata": {},
   "source": [
    "### Adding input layers and hidden layers"
   ]
  },
  {
   "cell_type": "code",
   "execution_count": 18,
   "id": "393d50c5",
   "metadata": {},
   "outputs": [],
   "source": [
    "classifier.add(Dense(units=6,kernel_initializer='he_uniform', activation='relu',input_dim=11))"
   ]
  },
  {
   "cell_type": "code",
   "execution_count": 19,
   "id": "8467d8ff",
   "metadata": {},
   "outputs": [],
   "source": [
    "classifier.add(Dense(units=6, kernel_initializer='he_uniform',activation='relu'))"
   ]
  },
  {
   "cell_type": "code",
   "execution_count": 20,
   "id": "8415ac89",
   "metadata": {},
   "outputs": [],
   "source": [
    "classifier.add(Dense(units=1,kernel_initializer='glorot_uniform',activation= 'sigmoid'))"
   ]
  },
  {
   "cell_type": "markdown",
   "id": "ebd16fb8",
   "metadata": {},
   "source": [
    "### Compiling ANN"
   ]
  },
  {
   "cell_type": "code",
   "execution_count": 21,
   "id": "1e14bf1c",
   "metadata": {},
   "outputs": [],
   "source": [
    "classifier.compile(optimizer='adam',loss='binary_crossentropy',metrics=['accuracy'])"
   ]
  },
  {
   "cell_type": "markdown",
   "id": "1c5d7528",
   "metadata": {},
   "source": [
    "### Fitting ANN in trainig dataset"
   ]
  },
  {
   "cell_type": "code",
   "execution_count": 22,
   "id": "b08c9840",
   "metadata": {},
   "outputs": [
    {
     "name": "stdout",
     "output_type": "stream",
     "text": [
      "Epoch 1/100\n"
     ]
    },
    {
     "name": "stderr",
     "output_type": "stream",
     "text": [
      "2023-11-18 12:42:24.676853: W tensorflow/tsl/platform/profile_utils/cpu_utils.cc:128] Failed to get CPU frequency: 0 Hz\n"
     ]
    },
    {
     "name": "stdout",
     "output_type": "stream",
     "text": [
      "536/536 [==============================] - 0s 499us/step - loss: 0.4934 - accuracy: 0.8003 - val_loss: 0.4698 - val_accuracy: 0.7978\n",
      "Epoch 2/100\n",
      "536/536 [==============================] - 0s 379us/step - loss: 0.4500 - accuracy: 0.8095 - val_loss: 0.4500 - val_accuracy: 0.8031\n",
      "Epoch 3/100\n",
      "536/536 [==============================] - 0s 375us/step - loss: 0.4328 - accuracy: 0.8115 - val_loss: 0.4433 - val_accuracy: 0.8023\n",
      "Epoch 4/100\n",
      "536/536 [==============================] - 0s 373us/step - loss: 0.4256 - accuracy: 0.8147 - val_loss: 0.4373 - val_accuracy: 0.8084\n",
      "Epoch 5/100\n",
      "536/536 [==============================] - 0s 375us/step - loss: 0.4206 - accuracy: 0.8166 - val_loss: 0.4335 - val_accuracy: 0.8065\n",
      "Epoch 6/100\n",
      "536/536 [==============================] - 0s 374us/step - loss: 0.4165 - accuracy: 0.8210 - val_loss: 0.4299 - val_accuracy: 0.8103\n",
      "Epoch 7/100\n",
      "536/536 [==============================] - 0s 376us/step - loss: 0.4122 - accuracy: 0.8216 - val_loss: 0.4234 - val_accuracy: 0.8145\n",
      "Epoch 8/100\n",
      "536/536 [==============================] - 0s 376us/step - loss: 0.4034 - accuracy: 0.8248 - val_loss: 0.4121 - val_accuracy: 0.8201\n",
      "Epoch 9/100\n",
      "536/536 [==============================] - 0s 383us/step - loss: 0.3895 - accuracy: 0.8328 - val_loss: 0.3990 - val_accuracy: 0.8262\n",
      "Epoch 10/100\n",
      "536/536 [==============================] - 0s 376us/step - loss: 0.3770 - accuracy: 0.8421 - val_loss: 0.3897 - val_accuracy: 0.8281\n",
      "Epoch 11/100\n",
      "536/536 [==============================] - 0s 371us/step - loss: 0.3678 - accuracy: 0.8464 - val_loss: 0.3819 - val_accuracy: 0.8376\n",
      "Epoch 12/100\n",
      "536/536 [==============================] - 0s 374us/step - loss: 0.3620 - accuracy: 0.8496 - val_loss: 0.3791 - val_accuracy: 0.8334\n",
      "Epoch 13/100\n",
      "536/536 [==============================] - 0s 375us/step - loss: 0.3573 - accuracy: 0.8513 - val_loss: 0.3770 - val_accuracy: 0.8398\n",
      "Epoch 14/100\n",
      "536/536 [==============================] - 0s 375us/step - loss: 0.3545 - accuracy: 0.8533 - val_loss: 0.3750 - val_accuracy: 0.8357\n",
      "Epoch 15/100\n",
      "536/536 [==============================] - 0s 374us/step - loss: 0.3522 - accuracy: 0.8541 - val_loss: 0.3741 - val_accuracy: 0.8368\n",
      "Epoch 16/100\n",
      "536/536 [==============================] - 0s 369us/step - loss: 0.3503 - accuracy: 0.8524 - val_loss: 0.3720 - val_accuracy: 0.8383\n",
      "Epoch 17/100\n",
      "536/536 [==============================] - 0s 404us/step - loss: 0.3489 - accuracy: 0.8531 - val_loss: 0.3722 - val_accuracy: 0.8387\n",
      "Epoch 18/100\n",
      "536/536 [==============================] - 0s 376us/step - loss: 0.3469 - accuracy: 0.8545 - val_loss: 0.3695 - val_accuracy: 0.8413\n",
      "Epoch 19/100\n",
      "536/536 [==============================] - 0s 380us/step - loss: 0.3460 - accuracy: 0.8569 - val_loss: 0.3683 - val_accuracy: 0.8440\n",
      "Epoch 20/100\n",
      "536/536 [==============================] - 0s 375us/step - loss: 0.3445 - accuracy: 0.8561 - val_loss: 0.3666 - val_accuracy: 0.8459\n",
      "Epoch 21/100\n",
      "536/536 [==============================] - 0s 372us/step - loss: 0.3431 - accuracy: 0.8574 - val_loss: 0.3655 - val_accuracy: 0.8448\n",
      "Epoch 22/100\n",
      "536/536 [==============================] - 0s 376us/step - loss: 0.3418 - accuracy: 0.8578 - val_loss: 0.3652 - val_accuracy: 0.8455\n",
      "Epoch 23/100\n",
      "536/536 [==============================] - 0s 376us/step - loss: 0.3401 - accuracy: 0.8600 - val_loss: 0.3653 - val_accuracy: 0.8451\n",
      "Epoch 24/100\n",
      "536/536 [==============================] - 0s 375us/step - loss: 0.3396 - accuracy: 0.8610 - val_loss: 0.3640 - val_accuracy: 0.8485\n",
      "Epoch 25/100\n",
      "536/536 [==============================] - 0s 377us/step - loss: 0.3382 - accuracy: 0.8587 - val_loss: 0.3641 - val_accuracy: 0.8482\n",
      "Epoch 26/100\n",
      "536/536 [==============================] - 0s 374us/step - loss: 0.3378 - accuracy: 0.8619 - val_loss: 0.3632 - val_accuracy: 0.8478\n",
      "Epoch 27/100\n",
      "536/536 [==============================] - 0s 380us/step - loss: 0.3364 - accuracy: 0.8630 - val_loss: 0.3645 - val_accuracy: 0.8463\n",
      "Epoch 28/100\n",
      "536/536 [==============================] - 0s 378us/step - loss: 0.3358 - accuracy: 0.8628 - val_loss: 0.3630 - val_accuracy: 0.8512\n",
      "Epoch 29/100\n",
      "536/536 [==============================] - 0s 377us/step - loss: 0.3355 - accuracy: 0.8627 - val_loss: 0.3630 - val_accuracy: 0.8489\n",
      "Epoch 30/100\n",
      "536/536 [==============================] - 0s 378us/step - loss: 0.3348 - accuracy: 0.8642 - val_loss: 0.3635 - val_accuracy: 0.8504\n",
      "Epoch 31/100\n",
      "536/536 [==============================] - 0s 372us/step - loss: 0.3348 - accuracy: 0.8645 - val_loss: 0.3614 - val_accuracy: 0.8516\n",
      "Epoch 32/100\n",
      "536/536 [==============================] - 0s 379us/step - loss: 0.3339 - accuracy: 0.8647 - val_loss: 0.3622 - val_accuracy: 0.8516\n",
      "Epoch 33/100\n",
      "536/536 [==============================] - 0s 376us/step - loss: 0.3337 - accuracy: 0.8645 - val_loss: 0.3619 - val_accuracy: 0.8501\n",
      "Epoch 34/100\n",
      "536/536 [==============================] - 0s 415us/step - loss: 0.3331 - accuracy: 0.8647 - val_loss: 0.3619 - val_accuracy: 0.8504\n",
      "Epoch 35/100\n",
      "536/536 [==============================] - 0s 380us/step - loss: 0.3330 - accuracy: 0.8653 - val_loss: 0.3610 - val_accuracy: 0.8497\n",
      "Epoch 36/100\n",
      "536/536 [==============================] - 0s 377us/step - loss: 0.3328 - accuracy: 0.8649 - val_loss: 0.3611 - val_accuracy: 0.8508\n",
      "Epoch 37/100\n",
      "536/536 [==============================] - 0s 376us/step - loss: 0.3324 - accuracy: 0.8636 - val_loss: 0.3607 - val_accuracy: 0.8501\n",
      "Epoch 38/100\n",
      "536/536 [==============================] - 0s 376us/step - loss: 0.3320 - accuracy: 0.8643 - val_loss: 0.3609 - val_accuracy: 0.8519\n",
      "Epoch 39/100\n",
      "536/536 [==============================] - 0s 380us/step - loss: 0.3318 - accuracy: 0.8645 - val_loss: 0.3612 - val_accuracy: 0.8493\n",
      "Epoch 40/100\n",
      "536/536 [==============================] - 0s 382us/step - loss: 0.3311 - accuracy: 0.8660 - val_loss: 0.3619 - val_accuracy: 0.8504\n",
      "Epoch 41/100\n",
      "536/536 [==============================] - 0s 378us/step - loss: 0.3315 - accuracy: 0.8638 - val_loss: 0.3604 - val_accuracy: 0.8493\n",
      "Epoch 42/100\n",
      "536/536 [==============================] - 0s 376us/step - loss: 0.3310 - accuracy: 0.8645 - val_loss: 0.3600 - val_accuracy: 0.8508\n",
      "Epoch 43/100\n",
      "536/536 [==============================] - 0s 378us/step - loss: 0.3308 - accuracy: 0.8660 - val_loss: 0.3605 - val_accuracy: 0.8531\n",
      "Epoch 44/100\n",
      "536/536 [==============================] - 0s 378us/step - loss: 0.3306 - accuracy: 0.8649 - val_loss: 0.3613 - val_accuracy: 0.8527\n",
      "Epoch 45/100\n",
      "536/536 [==============================] - 0s 378us/step - loss: 0.3300 - accuracy: 0.8632 - val_loss: 0.3611 - val_accuracy: 0.8508\n",
      "Epoch 46/100\n",
      "536/536 [==============================] - 0s 406us/step - loss: 0.3301 - accuracy: 0.8647 - val_loss: 0.3601 - val_accuracy: 0.8531\n",
      "Epoch 47/100\n",
      "536/536 [==============================] - 0s 376us/step - loss: 0.3298 - accuracy: 0.8647 - val_loss: 0.3593 - val_accuracy: 0.8557\n",
      "Epoch 48/100\n",
      "536/536 [==============================] - 0s 375us/step - loss: 0.3298 - accuracy: 0.8636 - val_loss: 0.3599 - val_accuracy: 0.8538\n",
      "Epoch 49/100\n",
      "536/536 [==============================] - 0s 381us/step - loss: 0.3295 - accuracy: 0.8653 - val_loss: 0.3604 - val_accuracy: 0.8546\n",
      "Epoch 50/100\n",
      "536/536 [==============================] - 0s 379us/step - loss: 0.3293 - accuracy: 0.8653 - val_loss: 0.3604 - val_accuracy: 0.8535\n",
      "Epoch 51/100\n",
      "536/536 [==============================] - 0s 378us/step - loss: 0.3287 - accuracy: 0.8664 - val_loss: 0.3605 - val_accuracy: 0.8542\n",
      "Epoch 52/100\n",
      "536/536 [==============================] - 0s 373us/step - loss: 0.3293 - accuracy: 0.8668 - val_loss: 0.3611 - val_accuracy: 0.8535\n",
      "Epoch 53/100\n",
      "536/536 [==============================] - 0s 380us/step - loss: 0.3289 - accuracy: 0.8647 - val_loss: 0.3606 - val_accuracy: 0.8554\n",
      "Epoch 54/100\n",
      "536/536 [==============================] - 0s 376us/step - loss: 0.3289 - accuracy: 0.8647 - val_loss: 0.3595 - val_accuracy: 0.8538\n",
      "Epoch 55/100\n",
      "536/536 [==============================] - 0s 375us/step - loss: 0.3282 - accuracy: 0.8662 - val_loss: 0.3623 - val_accuracy: 0.8512\n",
      "Epoch 56/100\n",
      "536/536 [==============================] - 0s 376us/step - loss: 0.3288 - accuracy: 0.8664 - val_loss: 0.3618 - val_accuracy: 0.8550\n",
      "Epoch 57/100\n",
      "536/536 [==============================] - 0s 371us/step - loss: 0.3281 - accuracy: 0.8653 - val_loss: 0.3612 - val_accuracy: 0.8516\n",
      "Epoch 58/100\n",
      "536/536 [==============================] - 0s 375us/step - loss: 0.3284 - accuracy: 0.8640 - val_loss: 0.3611 - val_accuracy: 0.8535\n",
      "Epoch 59/100\n",
      "536/536 [==============================] - 0s 400us/step - loss: 0.3281 - accuracy: 0.8649 - val_loss: 0.3603 - val_accuracy: 0.8546\n",
      "Epoch 60/100\n",
      "536/536 [==============================] - 0s 377us/step - loss: 0.3278 - accuracy: 0.8655 - val_loss: 0.3612 - val_accuracy: 0.8508\n",
      "Epoch 61/100\n",
      "536/536 [==============================] - 0s 375us/step - loss: 0.3277 - accuracy: 0.8656 - val_loss: 0.3602 - val_accuracy: 0.8550\n",
      "Epoch 62/100\n",
      "536/536 [==============================] - 0s 373us/step - loss: 0.3278 - accuracy: 0.8655 - val_loss: 0.3614 - val_accuracy: 0.8542\n",
      "Epoch 63/100\n",
      "536/536 [==============================] - 0s 376us/step - loss: 0.3276 - accuracy: 0.8668 - val_loss: 0.3605 - val_accuracy: 0.8538\n",
      "Epoch 64/100\n",
      "536/536 [==============================] - 0s 378us/step - loss: 0.3272 - accuracy: 0.8653 - val_loss: 0.3604 - val_accuracy: 0.8527\n",
      "Epoch 65/100\n",
      "536/536 [==============================] - 0s 377us/step - loss: 0.3277 - accuracy: 0.8658 - val_loss: 0.3608 - val_accuracy: 0.8550\n",
      "Epoch 66/100\n",
      "536/536 [==============================] - 0s 376us/step - loss: 0.3272 - accuracy: 0.8673 - val_loss: 0.3608 - val_accuracy: 0.8538\n",
      "Epoch 67/100\n",
      "536/536 [==============================] - 0s 373us/step - loss: 0.3273 - accuracy: 0.8643 - val_loss: 0.3608 - val_accuracy: 0.8557\n",
      "Epoch 68/100\n",
      "536/536 [==============================] - 0s 440us/step - loss: 0.3273 - accuracy: 0.8666 - val_loss: 0.3621 - val_accuracy: 0.8523\n",
      "Epoch 69/100\n",
      "536/536 [==============================] - 0s 381us/step - loss: 0.3268 - accuracy: 0.8662 - val_loss: 0.3604 - val_accuracy: 0.8542\n",
      "Epoch 70/100\n",
      "536/536 [==============================] - 0s 375us/step - loss: 0.3267 - accuracy: 0.8655 - val_loss: 0.3629 - val_accuracy: 0.8516\n",
      "Epoch 71/100\n",
      "536/536 [==============================] - 0s 376us/step - loss: 0.3265 - accuracy: 0.8640 - val_loss: 0.3627 - val_accuracy: 0.8497\n",
      "Epoch 72/100\n",
      "536/536 [==============================] - 0s 373us/step - loss: 0.3269 - accuracy: 0.8636 - val_loss: 0.3618 - val_accuracy: 0.8535\n",
      "Epoch 73/100\n",
      "536/536 [==============================] - 0s 372us/step - loss: 0.3266 - accuracy: 0.8655 - val_loss: 0.3642 - val_accuracy: 0.8508\n",
      "Epoch 74/100\n",
      "536/536 [==============================] - 0s 377us/step - loss: 0.3269 - accuracy: 0.8668 - val_loss: 0.3619 - val_accuracy: 0.8531\n",
      "Epoch 75/100\n",
      "536/536 [==============================] - 0s 392us/step - loss: 0.3266 - accuracy: 0.8649 - val_loss: 0.3621 - val_accuracy: 0.8535\n",
      "Epoch 76/100\n",
      "536/536 [==============================] - 0s 382us/step - loss: 0.3264 - accuracy: 0.8664 - val_loss: 0.3623 - val_accuracy: 0.8538\n",
      "Epoch 77/100\n",
      "536/536 [==============================] - 0s 402us/step - loss: 0.3259 - accuracy: 0.8656 - val_loss: 0.3631 - val_accuracy: 0.8531\n",
      "Epoch 78/100\n",
      "536/536 [==============================] - 0s 374us/step - loss: 0.3263 - accuracy: 0.8653 - val_loss: 0.3625 - val_accuracy: 0.8538\n",
      "Epoch 79/100\n",
      "536/536 [==============================] - 0s 377us/step - loss: 0.3261 - accuracy: 0.8649 - val_loss: 0.3624 - val_accuracy: 0.8535\n",
      "Epoch 80/100\n",
      "536/536 [==============================] - 0s 375us/step - loss: 0.3262 - accuracy: 0.8655 - val_loss: 0.3627 - val_accuracy: 0.8527\n",
      "Epoch 81/100\n",
      "536/536 [==============================] - 0s 376us/step - loss: 0.3259 - accuracy: 0.8651 - val_loss: 0.3622 - val_accuracy: 0.8512\n",
      "Epoch 82/100\n",
      "536/536 [==============================] - 0s 376us/step - loss: 0.3262 - accuracy: 0.8653 - val_loss: 0.3615 - val_accuracy: 0.8538\n",
      "Epoch 83/100\n",
      "536/536 [==============================] - 0s 374us/step - loss: 0.3260 - accuracy: 0.8692 - val_loss: 0.3627 - val_accuracy: 0.8508\n",
      "Epoch 84/100\n",
      "536/536 [==============================] - 0s 382us/step - loss: 0.3261 - accuracy: 0.8660 - val_loss: 0.3623 - val_accuracy: 0.8523\n",
      "Epoch 85/100\n",
      "536/536 [==============================] - 0s 376us/step - loss: 0.3255 - accuracy: 0.8671 - val_loss: 0.3624 - val_accuracy: 0.8504\n",
      "Epoch 86/100\n",
      "536/536 [==============================] - 0s 377us/step - loss: 0.3259 - accuracy: 0.8655 - val_loss: 0.3628 - val_accuracy: 0.8527\n",
      "Epoch 87/100\n",
      "536/536 [==============================] - 0s 378us/step - loss: 0.3261 - accuracy: 0.8662 - val_loss: 0.3631 - val_accuracy: 0.8523\n",
      "Epoch 88/100\n",
      "536/536 [==============================] - 0s 375us/step - loss: 0.3260 - accuracy: 0.8656 - val_loss: 0.3625 - val_accuracy: 0.8538\n",
      "Epoch 89/100\n",
      "536/536 [==============================] - 0s 377us/step - loss: 0.3256 - accuracy: 0.8662 - val_loss: 0.3629 - val_accuracy: 0.8523\n",
      "Epoch 90/100\n",
      "536/536 [==============================] - 0s 377us/step - loss: 0.3253 - accuracy: 0.8656 - val_loss: 0.3644 - val_accuracy: 0.8501\n",
      "Epoch 91/100\n",
      "536/536 [==============================] - 0s 378us/step - loss: 0.3258 - accuracy: 0.8653 - val_loss: 0.3627 - val_accuracy: 0.8531\n",
      "Epoch 92/100\n",
      "536/536 [==============================] - 0s 402us/step - loss: 0.3256 - accuracy: 0.8668 - val_loss: 0.3633 - val_accuracy: 0.8523\n",
      "Epoch 93/100\n",
      "536/536 [==============================] - 0s 376us/step - loss: 0.3255 - accuracy: 0.8660 - val_loss: 0.3631 - val_accuracy: 0.8527\n",
      "Epoch 94/100\n",
      "536/536 [==============================] - 0s 377us/step - loss: 0.3253 - accuracy: 0.8666 - val_loss: 0.3629 - val_accuracy: 0.8523\n",
      "Epoch 95/100\n",
      "536/536 [==============================] - 0s 376us/step - loss: 0.3255 - accuracy: 0.8670 - val_loss: 0.3625 - val_accuracy: 0.8527\n",
      "Epoch 96/100\n",
      "536/536 [==============================] - 0s 377us/step - loss: 0.3248 - accuracy: 0.8660 - val_loss: 0.3655 - val_accuracy: 0.8485\n",
      "Epoch 97/100\n",
      "536/536 [==============================] - 0s 376us/step - loss: 0.3253 - accuracy: 0.8656 - val_loss: 0.3632 - val_accuracy: 0.8535\n",
      "Epoch 98/100\n",
      "536/536 [==============================] - 0s 376us/step - loss: 0.3256 - accuracy: 0.8664 - val_loss: 0.3628 - val_accuracy: 0.8501\n",
      "Epoch 99/100\n",
      "536/536 [==============================] - 0s 376us/step - loss: 0.3246 - accuracy: 0.8656 - val_loss: 0.3638 - val_accuracy: 0.8474\n",
      "Epoch 100/100\n",
      "536/536 [==============================] - 0s 376us/step - loss: 0.3249 - accuracy: 0.8668 - val_loss: 0.3636 - val_accuracy: 0.8508\n"
     ]
    }
   ],
   "source": [
    "model = classifier.fit(X_train,y_train,validation_split=0.33,batch_size=10,epochs= 100)"
   ]
  },
  {
   "cell_type": "code",
   "execution_count": 23,
   "id": "2caa333b",
   "metadata": {},
   "outputs": [],
   "source": [
    "### list all data in history"
   ]
  },
  {
   "cell_type": "code",
   "execution_count": 24,
   "id": "18509fcd",
   "metadata": {},
   "outputs": [
    {
     "name": "stdout",
     "output_type": "stream",
     "text": [
      "dict_keys(['loss', 'accuracy', 'val_loss', 'val_accuracy'])\n"
     ]
    }
   ],
   "source": [
    "print(model.history.keys())"
   ]
  },
  {
   "cell_type": "markdown",
   "id": "b1d30fcd",
   "metadata": {},
   "source": [
    "### Summarize history of accuracy"
   ]
  },
  {
   "cell_type": "code",
   "execution_count": 25,
   "id": "edcafe31",
   "metadata": {},
   "outputs": [
    {
     "data": {
      "text/plain": [
       "<matplotlib.legend.Legend at 0x176242230>"
      ]
     },
     "execution_count": 25,
     "metadata": {},
     "output_type": "execute_result"
    },
    {
     "data": {
      "image/png": "[encoded data removed]",
      "text/plain": [
       "<Figure size 640x480 with 1 Axes>"
      ]
     },
     "metadata": {},
     "output_type": "display_data"
    }
   ],
   "source": [
    "plt.plot(model.history['accuracy'])\n",
    "plt.plot(model.history['val_accuracy'])\n",
    "plt.title('Model Accuracy')\n",
    "plt.xlabel('Accuracy')\n",
    "plt.ylabel('epochs')\n",
    "plt.legend(['train','test'],loc='upper left')"
   ]
  },
  {
   "cell_type": "markdown",
   "id": "622e7f12",
   "metadata": {},
   "source": [
    "### Summarize history of loss"
   ]
  },
  {
   "cell_type": "code",
   "execution_count": 26,
   "id": "9d30a517",
   "metadata": {},
   "outputs": [
    {
     "data": {
      "text/plain": [
       "<matplotlib.legend.Legend at 0x176287f10>"
      ]
     },
     "execution_count": 26,
     "metadata": {},
     "output_type": "execute_result"
    },
    {
     "data": {
      "image/png": "[encoded data removed]",
      "text/plain": [
       "<Figure size 640x480 with 1 Axes>"
      ]
     },
     "metadata": {},
     "output_type": "display_data"
    }
   ],
   "source": [
    "plt.plot(model.history['loss'])\n",
    "plt.plot(model.history['val_loss'])\n",
    "plt.title('Model Loss')\n",
    "plt.xlabel('loss')\n",
    "plt.ylabel('epoch')\n",
    "plt.legend(['train','test'],loc='upper left')"
   ]
  },
  {
   "cell_type": "markdown",
   "id": "049bd947",
   "metadata": {},
   "source": [
    "### Making Predictions "
   ]
  },
  {
   "cell_type": "code",
   "execution_count": 27,
   "id": "74214942",
   "metadata": {},
   "outputs": [
    {
     "name": "stdout",
     "output_type": "stream",
     "text": [
      "63/63 [==============================] - 0s 244us/step\n"
     ]
    }
   ],
   "source": [
    "y_pred = classifier.predict(X_test)\n",
    "y_pred = (y_pred > 0.5)"
   ]
  },
  {
   "cell_type": "markdown",
   "id": "400d9556",
   "metadata": {},
   "source": [
    "### Making confusion matrix"
   ]
  },
  {
   "cell_type": "code",
   "execution_count": 28,
   "id": "b9656c7b",
   "metadata": {},
   "outputs": [],
   "source": [
    "from sklearn.metrics import confusion_matrix"
   ]
  },
  {
   "cell_type": "code",
   "execution_count": 29,
   "id": "5af1a512",
   "metadata": {},
   "outputs": [],
   "source": [
    "cm = confusion_matrix(y_test,y_pred)"
   ]
  },
  {
   "cell_type": "code",
   "execution_count": 30,
   "id": "24591f69",
   "metadata": {},
   "outputs": [
    {
     "data": {
      "text/plain": [
       "array([[1535,   60],\n",
       "       [ 216,  189]])"
      ]
     },
     "execution_count": 30,
     "metadata": {},
     "output_type": "execute_result"
    }
   ],
   "source": [
    "cm"
   ]
  },
  {
   "cell_type": "markdown",
   "id": "e11cf4cd",
   "metadata": {},
   "source": [
    "### Calculate accuracy"
   ]
  },
  {
   "cell_type": "code",
   "execution_count": 31,
   "id": "fcae1835",
   "metadata": {},
   "outputs": [],
   "source": [
    "from sklearn.metrics import accuracy_score"
   ]
  },
  {
   "cell_type": "code",
   "execution_count": 32,
   "id": "7ed1e71d",
   "metadata": {},
   "outputs": [],
   "source": [
    "score = accuracy_score(y_pred,y_test)"
   ]
  },
  {
   "cell_type": "code",
   "execution_count": 33,
   "id": "c42f8048",
   "metadata": {},
   "outputs": [
    {
     "data": {
      "text/plain": [
       "0.862"
      ]
     },
     "execution_count": 33,
     "metadata": {},
     "output_type": "execute_result"
    }
   ],
   "source": [
    "score"
   ]
  },
  {
   "cell_type": "code",
   "execution_count": null,
   "id": "bb8628d5",
   "metadata": {},
   "outputs": [],
   "source": []
  }
 ],
 "metadata": {
  "kernelspec": {
   "display_name": "Python 3 (ipykernel)",
   "language": "python",
   "name": "python3"
  },
  "language_info": {
   "codemirror_mode": {
    "name": "ipython",
    "version": 3
   },
   "file_extension": ".py",
   "mimetype": "text/x-python",
   "name": "python",
   "nbconvert_exporter": "python",
   "pygments_lexer": "ipython3",
   "version": "3.10.13"
  }
 },
 "nbformat": 4,
 "nbformat_minor": 5
}
